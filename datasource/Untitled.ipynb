{
 "cells": [
  {
   "cell_type": "code",
   "execution_count": 13,
   "id": "c40f4b51-6fb1-45c4-ae29-f2c959d39753",
   "metadata": {},
   "outputs": [],
   "source": [
    "PDF_FILE = \"WHO.pdf\"   # your local file\n"
   ]
  },
  {
   "cell_type": "code",
   "execution_count": 14,
   "id": "b46302bc-604a-4d6b-977f-d9ad4647f7f9",
   "metadata": {},
   "outputs": [
    {
     "name": "stdout",
     "output_type": "stream",
     "text": [
      "[INFO] Processing WHO.pdf...\n",
      "[INFO] Extracted 17 rules.\n",
      "[INFO] Guidelines saved to who_guidelines.json\n"
     ]
    }
   ],
   "source": [
    "#!/usr/bin/env python3\n",
    "\"\"\"\n",
    "WHO Triage Guidelines Extractor\n",
    "- Parses WHO Adult Triage & Treatment PDF\n",
    "- Extracts condition/symptom -> triage level -> action\n",
    "- Saves structured JSON\n",
    "\"\"\"\n",
    "\n",
    "import re, json, pdfplumber\n",
    "from pathlib import Path\n",
    "from datetime import datetime\n",
    "import hashlib\n",
    "\n",
    "# ---------- Config ----------\n",
    "OUTPUT_FILE = \"who_guidelines.json\"\n",
    "\n",
    "# ---------- Helpers ----------\n",
    "def generate_id(text: str) -> str:\n",
    "    return hashlib.md5(text.encode()).hexdigest()[:12]\n",
    "\n",
    "def detect_triage_level(text: str) -> str:\n",
    "    \"\"\"Detect triage level keywords.\"\"\"\n",
    "    triage_patterns = {\n",
    "        \"Level 1\": r\"\\b(Red|Immediate|Resuscitation)\\b\",\n",
    "        \"Level 2\": r\"\\b(Orange|Emergency)\\b\",\n",
    "        \"Level 3\": r\"\\b(Yellow|Urgent)\\b\",\n",
    "        \"Level 4\": r\"\\b(Green|Standard)\\b\",\n",
    "        \"Level 5\": r\"\\b(Blue|Non[- ]?urgent)\\b\",\n",
    "    }\n",
    "    for level, pat in triage_patterns.items():\n",
    "        if re.search(pat, text, re.I):\n",
    "            return level\n",
    "    return \"\"\n",
    "\n",
    "# ---------- Main Extraction ----------\n",
    "def extract_guidelines_from_pdf(path: str):\n",
    "    guidelines = []\n",
    "    with pdfplumber.open(path) as pdf:\n",
    "        for page in pdf.pages:\n",
    "            text = page.extract_text() or \"\"\n",
    "            lines = [l.strip() for l in text.split(\"\\n\") if l.strip()]\n",
    "\n",
    "            for line in lines:\n",
    "                triage_level = detect_triage_level(line)\n",
    "                if triage_level:\n",
    "                    guideline = {\n",
    "                        \"id\": generate_id(line),\n",
    "                        \"text\": line,\n",
    "                        \"metadata\": {\n",
    "                            \"symptoms\": [],\n",
    "                            \"diagnosis\": [],\n",
    "                            \"recommendation\": [],\n",
    "                            \"level\": triage_level\n",
    "                        },\n",
    "                        \"source\": Path(path).name,\n",
    "                        \"last_updated\": datetime.now().isoformat()\n",
    "                    }\n",
    "                    guidelines.append(guideline)\n",
    "    return guidelines\n",
    "\n",
    "# ---------- Runner ----------\n",
    "def main():\n",
    "    print(f\"[INFO] Processing {PDF_FILE}...\")\n",
    "    guidelines = extract_guidelines_from_pdf(PDF_FILE)\n",
    "    print(f\"[INFO] Extracted {len(guidelines)} rules.\")\n",
    "\n",
    "    with open(OUTPUT_FILE, \"w\", encoding=\"utf-8\") as f:\n",
    "        json.dump(guidelines, f, indent=2, ensure_ascii=False)\n",
    "\n",
    "    print(f\"[INFO] Guidelines saved to {OUTPUT_FILE}\")\n",
    "\n",
    "if __name__ == \"__main__\":\n",
    "    main()\n"
   ]
  },
  {
   "cell_type": "code",
   "execution_count": null,
   "id": "92043f71-3f31-4928-a3bc-ebaa4b2b345c",
   "metadata": {},
   "outputs": [],
   "source": []
  }
 ],
 "metadata": {
  "kernelspec": {
   "display_name": "Python (tensorflow_env)",
   "language": "python",
   "name": "tensorflow_env"
  },
  "language_info": {
   "codemirror_mode": {
    "name": "ipython",
    "version": 3
   },
   "file_extension": ".py",
   "mimetype": "text/x-python",
   "name": "python",
   "nbconvert_exporter": "python",
   "pygments_lexer": "ipython3",
   "version": "3.10.13"
  }
 },
 "nbformat": 4,
 "nbformat_minor": 5
}
